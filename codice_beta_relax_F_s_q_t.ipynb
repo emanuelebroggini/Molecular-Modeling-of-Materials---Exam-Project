{
 "cells": [
  {
   "cell_type": "code",
   "execution_count": null,
   "id": "f2ff688c",
   "metadata": {},
   "outputs": [],
   "source": [
    "# Improved \\beta\\-relaxation regime identification based on moving average\n",
    "def identify_beta_relaxation(sisf, window_size=10, stability_threshold=0.01, alpha_threshold=0.01):\n",
    "    smoothed_sisf = moving_average(sisf, window_size)\n",
    "    sisf_derivative = np.abs(np.diff(smoothed_sisf))\n",
    "    stable_points = np.where(sisf_derivative < stability_threshold)[0]\n",
    "\n",
    "    if len(stable_points) == 0:\n",
    "        return None, None\n",
    "\n",
    "    plateau_start = stable_points[0]\n",
    "    \n",
    "    # Cerca l'inizio del regime \\(\\alpha\\) come punto in cui la derivata rimane costantemente bassa\n",
    "    for i in range(plateau_start, len(sisf_derivative)):\n",
    "        if all(sisf_derivative[i:i + window_size] < alpha_threshold):\n",
    "            plateau_end = i + window_size\n",
    "            break\n",
    "    else:\n",
    "        plateau_end = None\n",
    "\n",
    "    return plateau_start, plateau_end"
   ]
  },
  {
   "cell_type": "code",
   "execution_count": null,
   "id": "5524ba2b",
   "metadata": {},
   "outputs": [],
   "source": [
    "# Choosing the threshold to use\n",
    "window_size = 10\n",
    "stability_threshold = 0.01\n",
    "alpha_threshold = 0.01\n",
    "\n",
    "# Function to compute moving average of data:\n",
    "def moving_average(data, window_size):\n",
    "    return np.convolve(data, np.ones(window_size)/window_size, mode='valid')"
   ]
  },
  {
   "cell_type": "code",
   "execution_count": null,
   "id": "0b2c625e",
   "metadata": {},
   "outputs": [],
   "source": [
    "# Identification of the plateau regime for the two functions:\n",
    "plateau_start_A_t_1000, plateau_end_A_t_1000 = identify_beta_relaxation(sisf_A_LAMMPS_t_1000, window_size, stability_threshold, alpha_threshold)\n",
    "plateau_start_B_t_1000, plateau_end_B_t_1000 = identify_beta_relaxation(sisf_B_LAMMPS_t_1000, window_size, stability_threshold, alpha_threshold)"
   ]
  },
  {
   "cell_type": "code",
   "execution_count": null,
   "id": "70c24694",
   "metadata": {},
   "outputs": [],
   "source": [
    "# Adjust for the window size effect\n",
    "if plateau_start_A_t_1000 is not None:\n",
    "    plateau_start_A_t_1000 += window_size // 2\n",
    "if plateau_end_A_t_1000 is not None:\n",
    "    plateau_end_A_t_1000 += window_size // 2\n",
    "\n",
    "print('beta-regime initial timestep for SISF of type A atoms :', plateau_start_A_t_1000)\n",
    "print('beta-regime final timestep for SISF of type A atoms:' ,plateau_end_A_t_1000)"
   ]
  },
  {
   "cell_type": "code",
   "execution_count": null,
   "id": "afbaea06",
   "metadata": {},
   "outputs": [],
   "source": [
    "# Adjust for the window size effect\n",
    "if plateau_start_B_t_1000 is not None:\n",
    "    plateau_start_B_t_1000 += window_size // 2\n",
    "if plateau_end_B_t_1000 is not None:\n",
    "    plateau_end_B_t_1000 += window_size // 2\n",
    "\n",
    "print('beta-regime initial timestep for SISF of type B atoms :', plateau_start_B_t_1000)\n",
    "print('beta-regime final timestep for SISF of type B atoms:' ,plateau_end_B_t_1000)"
   ]
  },
  {
   "cell_type": "code",
   "execution_count": null,
   "id": "b95c226f",
   "metadata": {},
   "outputs": [],
   "source": [
    "# Timesteps number in LAMMPS\n",
    "n_lammps_steps = len(sisf_A_LAMMPS_t_1000) \n",
    "\n",
    "# Deltat is the same used in LAMMPS (=0.05 come nella simulazione Python)\n",
    "Deltat = 0.05\n",
    "time_lammps_log = np.arange(0, n_lammps_steps * Deltat, Deltat)\n",
    "\n",
    "# Plot della SISF con beta-relaxation regime evidenziato\n",
    "plt.plot(time_lammps_log, sisf_A_LAMMPS_t_1000, label=r'$F_s^A(q_{AB},t), q_{AB}\\approx 7.391$', color='black')\n",
    "if plateau_start_A_t_1000 is not None and plateau_end_A_t_1000 is not None:\n",
    "    plt.axvspan(plateau_start_A_t_1000, plateau_end_A_t_1000, color='red', alpha=0.3, label=r'$\\beta$-relaxation regime')\n",
    "plt.xlabel('$t$')\n",
    "plt.ylabel('$F_s(\\mathbf{q},t)$')\n",
    "plt.title(r'Self-Intermediate Scattering Function for group A atoms with highlighted $\\beta$-relaxation regime')\n",
    "plt.legend()\n",
    "plt.show()\n",
    "\n",
    "# beta-relaxation regime analysis\n",
    "if plateau_start_A_t_1000 is not None and plateau_end_A_t_1000 is not None:\n",
    "    beta_regime = sisf_A_LAMMPS_t_1000[plateau_start_A_t_1000:plateau_end_A_t_1000]\n",
    "    time_steps = np.arange(plateau_start_A_t_1000, plateau_end_A_t_1000)\n",
    "    # Analisi del comportamento nel regime di \\(\\beta\\)-relaxation\n",
    "    print(\"Beta relaxation regime identified from step {} to step {} for atoms of type A\".format(plateau_start_A_t_1000, plateau_end_A_t_1000))\n",
    "else:\n",
    "    print(\"Beta relaxation regime not identified\")"
   ]
  },
  {
   "cell_type": "code",
   "execution_count": null,
   "id": "9709f4bb",
   "metadata": {},
   "outputs": [],
   "source": [
    "# Timesteps number in LAMMPS\n",
    "n_lammps_steps = len(sisf_B_LAMMPS_t_1000) \n",
    "\n",
    "# Deltat is the same used in LAMMPS (=0.05 come nella simulazione Python)\n",
    "Deltat = 0.05\n",
    "time_lammps_log = np.arange(0, n_lammps_steps * Deltat, Deltat)\n",
    "\n",
    "# Plot della SISF with beta-relaxation regime highlighted\n",
    "\n",
    "plt.plot(time_lammps_log, sisf_B_LAMMPS_t_1000, label=r'$F_s^B(q_{AB},t), q_{AB}\\approx 7.391$', color='black')\n",
    "if plateau_start_B_t_1000 is not None and plateau_end_B_t_1000 is not None:\n",
    "    plt.axvspan(plateau_start_B_t_1000, plateau_end_B_t_1000, color='red', alpha=0.3, label=r'$\\beta$-relaxation regime')\n",
    "plt.xlabel('$t$')\n",
    "plt.ylabel('$F_s(\\mathbf{q},t)$')\n",
    "plt.title(r'Self-Intermediate Scattering Function for group B atoms with highlighted $\\beta$-relaxation regime')\n",
    "plt.legend()\n",
    "plt.show()\n",
    "\n",
    "#beta-relaxation regime analysis:\n",
    "if plateau_start_B_t_1000 is not None and plateau_end_B_t_1000 is not None:\n",
    "    beta_regime = sisf_B_LAMMPS_t_1000[plateau_start_B_t_1000:plateau_end_B_t_1000]\n",
    "    time_steps = np.arange(plateau_start_B_t_1000, plateau_end_B_t_1000)\n",
    "    # Analisi del comportamento nel regime di \\(\\beta\\)-relaxation\n",
    "    print(\"Beta relaxation regime identified from step {} to step {} for atoms of type B\".format(plateau_start_B_t_1000, plateau_end_B_t_1000))\n",
    "else:\n",
    "    print(\"Beta relaxation regime not identified\")"
   ]
  },
  {
   "cell_type": "code",
   "execution_count": null,
   "id": "cffc828d",
   "metadata": {},
   "outputs": [],
   "source": [
    "# Logarithmic plot with beta-relaxation regime highlighted:\n",
    "# Group of type A atoms:\n",
    "\n",
    "# Plot SISF\n",
    "plt.figure(figsize=(10, 6))\n",
    "plt.loglog(time_lammps_log, sisf_A_LAMMPS_t_1000,label=rf'$F_s^A(q_{{AB}},t), q_{{AA}}\\approx {q_AB:.3f}$', color='black')\n",
    "if plateau_start_A_t_1000 is not None and plateau_end_A_t_1000 is not None:\n",
    "    plt.axvspan(plateau_start_A_t_1000, plateau_end_A_t_1000, color='red', alpha=0.3, label=r'$\\beta$-relaxation regime')\n",
    "    \n",
    "plt.xscale('log')     # logarithmic x-axis\n",
    "plt.yscale('symlog')  # symmetric logarithmic y-axis --> useful for negative values and strong presence of noise\n",
    "\n",
    "# Set y-ticks manually to match the specific SISF values between 0.0 and 1.0#\n",
    "#plt.yticks(np.arange(0.0, 1.1, 0.1))  # Values from 0.0 to 1.0 with step 0.1\n",
    "\n",
    "plt.xlabel('$t$')\n",
    "plt.ylabel('$F_s(\\mathbf{q},t)$')\n",
    "plt.title(r'SISF plot for group A atoms with highlighted $\\beta$-relaxation regime')\n",
    "\n",
    "plt.legend()\n",
    "\n",
    "plt.grid(True)\n",
    "plt.show()"
   ]
  },
  {
   "cell_type": "code",
   "execution_count": null,
   "id": "983cf122",
   "metadata": {},
   "outputs": [],
   "source": [
    "# Logarithmic plot with beta-relaxation regime highlighted:\n",
    "# Group of type B atoms:\n",
    "\n",
    "# Plot SISF\n",
    "plt.figure(figsize=(10, 6))\n",
    "plt.loglog(time_lammps_log, sisf_B_LAMMPS_t_1000, label=rf'$F_s^B(q_{{AA}},t), q_{{AB}}\\approx {q_AB:.3f}$', color='black')\n",
    "if plateau_start_B_t_1000 is not None and plateau_end_B_t_1000 is not None:\n",
    "    plt.axvspan(plateau_start_B_t_1000, plateau_end_B_t_1000, color='red', alpha=0.3, label=r'$\\beta$-relaxation regime')\n",
    "    \n",
    "plt.xscale('log')     # logarithmic x-axis\n",
    "plt.yscale('symlog')  # symmetric logarithmic y-axis --> useful for negative values and strong presence of noise\n",
    "\n",
    "plt.xlabel('$t$')\n",
    "plt.ylabel('$F_s(\\mathbf{q},t)$')\n",
    "plt.title(r'SISF plot for group B atoms with highlighted $\\beta$-relaxation regime')\n",
    "\n",
    "plt.legend()\n",
    "\n",
    "plt.grid(True)\n",
    "plt.show()"
   ]
  },
  {
   "cell_type": "code",
   "execution_count": null,
   "id": "79cf3f30",
   "metadata": {},
   "outputs": [],
   "source": []
  },
  {
   "cell_type": "code",
   "execution_count": null,
   "id": "43f3a9d0",
   "metadata": {},
   "outputs": [],
   "source": []
  },
  {
   "cell_type": "code",
   "execution_count": null,
   "id": "56fc4a77",
   "metadata": {},
   "outputs": [],
   "source": []
  }
 ],
 "metadata": {
  "kernelspec": {
   "display_name": "Python 3 (ipykernel)",
   "language": "python",
   "name": "python3"
  },
  "language_info": {
   "codemirror_mode": {
    "name": "ipython",
    "version": 3
   },
   "file_extension": ".py",
   "mimetype": "text/x-python",
   "name": "python",
   "nbconvert_exporter": "python",
   "pygments_lexer": "ipython3",
   "version": "3.11.5"
  }
 },
 "nbformat": 4,
 "nbformat_minor": 5
}
