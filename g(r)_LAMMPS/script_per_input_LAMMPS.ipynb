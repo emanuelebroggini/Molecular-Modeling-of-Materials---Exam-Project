{
 "cells": [
  {
   "cell_type": "code",
   "execution_count": 1,
   "id": "12cefea5",
   "metadata": {},
   "outputs": [
    {
     "name": "stdout",
     "output_type": "stream",
     "text": [
      "Sequenza generata e salvata in colonne_indice_tipo_atomo.txt\n"
     ]
    }
   ],
   "source": [
    "### ATOMS\n",
    "# Definire il file di output\n",
    "output_file = \"colonne_indice_tipo_atomo.txt\"\n",
    "\n",
    "# Generare la sequenza dei numeri\n",
    "with open(output_file, \"w\") as f:\n",
    "    for i in range(1, 1001):\n",
    "        atom_type = 1 if i <= 800 else 2\n",
    "        f.write(f\"{i} {atom_type}\\n\")\n",
    "\n",
    "print(f\"Sequenza generata e salvata in {output_file}\")\n"
   ]
  },
  {
   "cell_type": "code",
   "execution_count": 3,
   "id": "5913d356",
   "metadata": {},
   "outputs": [
    {
     "name": "stdout",
     "output_type": "stream",
     "text": [
      "File unito e salvato in final_output.txt\n"
     ]
    }
   ],
   "source": [
    "# File di input\n",
    "file_sequenza = \"colonne_indice_tipo_atomo.txt\"\n",
    "file_coordinate = \"NVE_initposcheck\"\n",
    "\n",
    "# File di output finale\n",
    "file_output = \"final_output.txt\"\n",
    "\n",
    "# Aprire entrambi i file e unirli\n",
    "with open(file_sequenza, \"r\") as seq, open(file_coordinate, \"r\") as coords, open(file_output, \"w\") as out:\n",
    "    for seq_line, coord_line in zip(seq, coords):\n",
    "        out.write(f\"{seq_line.strip()} {coord_line.strip()}\\n\")\n",
    "\n",
    "print(f\"File unito e salvato in {file_output}\")\n"
   ]
  },
  {
   "cell_type": "code",
   "execution_count": 5,
   "id": "794c8f42",
   "metadata": {},
   "outputs": [
    {
     "name": "stdout",
     "output_type": "stream",
     "text": [
      "Sequenza generata e salvata in unica_colonna_1_1000.txt\n"
     ]
    }
   ],
   "source": [
    "### VELOCITIES\n",
    "# Definire il file di output\n",
    "output_file = \"unica_colonna_1_1000.txt\"\n",
    "\n",
    "# Generare la sequenza dei numeri\n",
    "with open(output_file, \"w\") as f:\n",
    "    for i in range(1, 1001):\n",
    "        f.write(f\"{i} \\n\")\n",
    "\n",
    "print(f\"Sequenza generata e salvata in {output_file}\")"
   ]
  },
  {
   "cell_type": "code",
   "execution_count": 6,
   "id": "bbd10cb4",
   "metadata": {},
   "outputs": [
    {
     "name": "stdout",
     "output_type": "stream",
     "text": [
      "File unito e salvato in velocities_input_LAMMPS.txt\n"
     ]
    }
   ],
   "source": [
    "# File di input\n",
    "file_sequenza = \"unica_colonna_1_1000.txt\"\n",
    "file_coordinate = \"NVE_initvelcheck\"\n",
    "\n",
    "# File di output finale\n",
    "file_output = \"velocities_input_LAMMPS.txt\"\n",
    "\n",
    "# Aprire entrambi i file e unirli\n",
    "with open(file_sequenza, \"r\") as seq, open(file_coordinate, \"r\") as coords, open(file_output, \"w\") as out:\n",
    "    for seq_line, coord_line in zip(seq, coords):\n",
    "        out.write(f\"{seq_line.strip()} {coord_line.strip()}\\n\")\n",
    "\n",
    "print(f\"File unito e salvato in {file_output}\")"
   ]
  }
 ],
 "metadata": {
  "kernelspec": {
   "display_name": "Python 3 (ipykernel)",
   "language": "python",
   "name": "python3"
  },
  "language_info": {
   "codemirror_mode": {
    "name": "ipython",
    "version": 3
   },
   "file_extension": ".py",
   "mimetype": "text/x-python",
   "name": "python",
   "nbconvert_exporter": "python",
   "pygments_lexer": "ipython3",
   "version": "3.11.5"
  }
 },
 "nbformat": 4,
 "nbformat_minor": 5
}
